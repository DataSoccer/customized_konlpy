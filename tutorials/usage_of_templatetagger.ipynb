{
 "cells": [
  {
   "cell_type": "code",
   "execution_count": 1,
   "metadata": {
    "collapsed": false
   },
   "outputs": [
    {
     "name": "stdout",
     "output_type": "stream",
     "text": [
      "[('우리', 'Noun'), ('아이오', 'Noun'), ('아이', 'Noun'), ('는', 'Josa'), ('정말', 'Noun'), ('이뻐', 'Adjective'), ('요', 'Eomi')] \n",
      "\n",
      "[('트와이스', 'Noun'), ('tt', 'Alpha'), ('는', 'Verb'), ('좋', 'Adjective'), ('아요', 'Eomi')]\n"
     ]
    }
   ],
   "source": [
    "from konlpy.tag import Twitter as OriginalTwitter\n",
    "\n",
    "twitter_original = OriginalTwitter()\n",
    "print(twitter_original.pos('우리아이오아이는 정말 이뻐요'),'\\n')\n",
    "print(twitter_original.pos('트와이스tt는 좋아요'))"
   ]
  },
  {
   "cell_type": "code",
   "execution_count": 3,
   "metadata": {
    "collapsed": false
   },
   "outputs": [
    {
     "data": {
      "text/plain": [
       "{'Josa': {'는', '은'},\n",
       " 'Modifier': {'우리', '이', '이번'},\n",
       " 'Noun': {'것', '번것', '아이', '아이오아이', '행사'}}"
      ]
     },
     "execution_count": 3,
     "metadata": {},
     "output_type": "execute_result"
    }
   ],
   "source": [
    "import sys\n",
    "sys.path.append('../')\n",
    "\n",
    "from customized_konlpy.tag import Twitter\n",
    "\n",
    "twitter = Twitter()\n",
    "\n",
    "twitter.add_dictionary('이', 'Modifier')\n",
    "twitter.add_dictionary('우리', 'Modifier')\n",
    "twitter.add_dictionary('이번', 'Modifier')\n",
    "twitter.add_dictionary('아이오아이', 'Noun')\n",
    "twitter.add_dictionary('행사', 'Noun')\n",
    "twitter.add_dictionary('아이', 'Noun')\n",
    "twitter.add_dictionary('번것', 'Noun')\n",
    "twitter.add_dictionary('것', 'Noun')\n",
    "twitter.add_dictionary('은', 'Josa')\n",
    "twitter.add_dictionary('는', 'Josa')\n",
    "twitter._dictionary._pos2words"
   ]
  },
  {
   "cell_type": "code",
   "execution_count": 4,
   "metadata": {
    "collapsed": false
   },
   "outputs": [
    {
     "data": {
      "text/plain": [
       "[('우리', 'Modifier'),\n",
       " ('아이오아이', 'Noun'),\n",
       " ('는', 'Josa'),\n",
       " ('정말', 'Noun'),\n",
       " ('이뻐', 'Adjective'),\n",
       " ('요', 'Eomi')]"
      ]
     },
     "execution_count": 4,
     "metadata": {},
     "output_type": "execute_result"
    }
   ],
   "source": [
    "twitter.pos('우리아이오아이는 정말 이뻐요')"
   ]
  },
  {
   "cell_type": "code",
   "execution_count": 5,
   "metadata": {
    "collapsed": false
   },
   "outputs": [
    {
     "data": {
      "text/plain": [
       "{'Josa': {'는', '은'},\n",
       " 'Modifier': {'우리', '이', '이번'},\n",
       " 'Noun': {'tt', '것', '번것', '아이', '아이오아이', '트와이스', '행사'}}"
      ]
     },
     "execution_count": 5,
     "metadata": {},
     "output_type": "execute_result"
    }
   ],
   "source": [
    "twitter.add_dictionary(['트와이스', 'tt'], 'Noun')\n",
    "twitter._dictionary._pos2words"
   ]
  },
  {
   "cell_type": "code",
   "execution_count": 6,
   "metadata": {
    "collapsed": false
   },
   "outputs": [
    {
     "data": {
      "text/plain": [
       "[('트와이스', 'Noun'),\n",
       " ('tt', 'Alpha'),\n",
       " ('는', 'Verb'),\n",
       " ('좋', 'Adjective'),\n",
       " ('아요', 'Eomi')]"
      ]
     },
     "execution_count": 6,
     "metadata": {},
     "output_type": "execute_result"
    }
   ],
   "source": [
    "twitter.pos('트와이스tt는 좋아요')"
   ]
  },
  {
   "cell_type": "code",
   "execution_count": 7,
   "metadata": {
    "collapsed": false
   },
   "outputs": [
    {
     "data": {
      "text/plain": [
       "[('Noun', 'Josa'), ('Modifier', 'Noun'), ('Modifier', 'Noun', 'Josa')]"
      ]
     },
     "execution_count": 7,
     "metadata": {},
     "output_type": "execute_result"
    }
   ],
   "source": [
    "twitter._customized_tagger.templates"
   ]
  },
  {
   "cell_type": "code",
   "execution_count": 5,
   "metadata": {
    "collapsed": false
   },
   "outputs": [
    {
     "data": {
      "text/plain": [
       "[('Noun', 'Josa'),\n",
       " ('Modifier', 'Noun'),\n",
       " ('Modifier', 'Noun', 'Josa'),\n",
       " ('Noun', 'Noun', 'Josa')]"
      ]
     },
     "execution_count": 5,
     "metadata": {},
     "output_type": "execute_result"
    }
   ],
   "source": [
    "twitter._customized_tagger.add_a_template(('Noun', 'Noun', 'Josa'))\n",
    "twitter._customized_tagger.templates"
   ]
  },
  {
   "cell_type": "code",
   "execution_count": 7,
   "metadata": {
    "collapsed": false
   },
   "outputs": [
    {
     "data": {
      "text/plain": [
       "{'Josa': {'는', '은'},\n",
       " 'Modifier': {'우리', '이', '이번'},\n",
       " 'Noun': {'tt', '것', '번것', '아이', '아이오아이', '트와이스', '행사'}}"
      ]
     },
     "execution_count": 7,
     "metadata": {},
     "output_type": "execute_result"
    }
   ],
   "source": []
  },
  {
   "cell_type": "code",
   "execution_count": null,
   "metadata": {
    "collapsed": true
   },
   "outputs": [],
   "source": []
  }
 ],
 "metadata": {
  "kernelspec": {
   "display_name": "Python 3",
   "language": "python",
   "name": "python3"
  },
  "language_info": {
   "codemirror_mode": {
    "name": "ipython",
    "version": 3
   },
   "file_extension": ".py",
   "mimetype": "text/x-python",
   "name": "python",
   "nbconvert_exporter": "python",
   "pygments_lexer": "ipython3",
   "version": "3.5.2"
  }
 },
 "nbformat": 4,
 "nbformat_minor": 0
}
