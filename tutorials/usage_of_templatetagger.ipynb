{
 "cells": [
  {
   "cell_type": "code",
   "execution_count": 1,
   "metadata": {
    "collapsed": false
   },
   "outputs": [
    {
     "data": {
      "text/plain": [
       "[('우리', 'Noun'),\n",
       " ('아이오', 'Noun'),\n",
       " ('아이', 'Noun'),\n",
       " ('는', 'Josa'),\n",
       " ('정말', 'Noun'),\n",
       " ('이뻐', 'Adjective'),\n",
       " ('요', 'Eomi')]"
      ]
     },
     "execution_count": 1,
     "metadata": {},
     "output_type": "execute_result"
    }
   ],
   "source": [
    "from konlpy.tag import Twitter as OriginalTwitter\n",
    "\n",
    "twitter_original = OriginalTwitter()\n",
    "twitter_original.pos('우리아이오아이는 정말 이뻐요')"
   ]
  },
  {
   "cell_type": "code",
   "execution_count": 2,
   "metadata": {
    "collapsed": false
   },
   "outputs": [
    {
     "data": {
      "text/plain": [
       "{'Josa': {'는', '은'},\n",
       " 'Modifier': {'우리', '이', '이번'},\n",
       " 'Noun': {'것', '번것', '아이', '아이오아이', '행사'}}"
      ]
     },
     "execution_count": 2,
     "metadata": {},
     "output_type": "execute_result"
    }
   ],
   "source": [
    "import sys\n",
    "sys.path.append('../')\n",
    "\n",
    "from customized_konlpy.tag import Twitter\n",
    "\n",
    "twitter = Twitter()\n",
    "\n",
    "twitter.add_dictionary('이', 'Modifier')\n",
    "twitter.add_dictionary('우리', 'Modifier')\n",
    "twitter.add_dictionary('이번', 'Modifier')\n",
    "twitter.add_dictionary('아이오아이', 'Noun')\n",
    "twitter.add_dictionary('행사', 'Noun')\n",
    "twitter.add_dictionary('아이', 'Noun')\n",
    "twitter.add_dictionary('번것', 'Noun')\n",
    "twitter.add_dictionary('것', 'Noun')\n",
    "twitter.add_dictionary('은', 'Josa')\n",
    "twitter.add_dictionary('는', 'Josa')\n",
    "twitter._customized_tagger.dictionary._pos2words"
   ]
  },
  {
   "cell_type": "code",
   "execution_count": 3,
   "metadata": {
    "collapsed": false
   },
   "outputs": [
    {
     "data": {
      "text/plain": [
       "[('우리', 'Modifier'),\n",
       " ('아이오아이', 'Noun'),\n",
       " ('는', 'Josa'),\n",
       " ('정말', 'Noun'),\n",
       " ('이뻐', 'Adjective'),\n",
       " ('요', 'Eomi')]"
      ]
     },
     "execution_count": 3,
     "metadata": {},
     "output_type": "execute_result"
    }
   ],
   "source": [
    "twitter.pos('우리아이오아이는 정말 이뻐요')"
   ]
  },
  {
   "cell_type": "code",
   "execution_count": null,
   "metadata": {
    "collapsed": true
   },
   "outputs": [],
   "source": []
  }
 ],
 "metadata": {
  "kernelspec": {
   "display_name": "Python 3",
   "language": "python",
   "name": "python3"
  },
  "language_info": {
   "codemirror_mode": {
    "name": "ipython",
    "version": 3
   },
   "file_extension": ".py",
   "mimetype": "text/x-python",
   "name": "python",
   "nbconvert_exporter": "python",
   "pygments_lexer": "ipython3",
   "version": "3.5.2"
  }
 },
 "nbformat": 4,
 "nbformat_minor": 0
}
