{
 "cells": [
  {
   "cell_type": "markdown",
   "metadata": {},
   "source": [
    "KoNLPy의 [트위터 한국어 분석기][twitterlink] ([현 오픈 한국어 분석기][openlink])는 속도도 빠르고 다양한 사전도 확보하고 있는 한국어 분석기입니다. 하지만 컴파일이 되어 있는 형태로 KoNLPy에 들어가 있기 때문에 사용자 사전의 추가가 힘들고\\*, 내가 원하는 임의의 태그를 지정할 수 없습니다. \n",
    "\n",
    "customized_KoNLPy는 확실히 알고 있는 단어들에 대해서는 라이브러리를 거치지 않고 주어진 어절을 아는 단어들로 토크나이징 / 품사판별을 하는 기능을 제공합니다. 이를 위해 template 기반 토크나이징을 수행합니다. \n",
    "\n",
    "    사전: {'아이오아이': 'Noun', '는': 'Josa'}\n",
    "    탬플릿: Noun + Josa\n",
    "    \n",
    "위와 같은 단어 리스트와 탬플릿이 있다면 '아이오아이는' 이라는 어절은 [('아이오아이', 'Noun'), ('는', 'Josa')]로 분리됩니다. \n",
    "\n",
    "\\* Scala 코드를 이용할 경우에는 사용자 사전의 추가가 매우 쉽습니다 [참고][openlink]\n",
    "\n",
    "[twitterlink]: https://github.com/twitter/twitter-korean-text\n",
    "[openlink]: https://github.com/open-korean-text/open-korean-text"
   ]
  },
  {
   "cell_type": "markdown",
   "metadata": {},
   "source": [
    "KoNLPy의 버전은 0.4.4 기준입니다. KoNLPy의 Twitter를 이용하여 '우리아이오아이는 정말 이뻐요'라는 문장을 처리하면 '아이오' + '아이'로 명사가 잘못 인식됩니다. 트와이스의 'tt' 역시 명사보다는 영어로 인식됩니다. 한국어 분석기 이지만, tt는 명사로 미리 분류하고 싶습니다. "
   ]
  },
  {
   "cell_type": "code",
   "execution_count": 1,
   "metadata": {
    "collapsed": false
   },
   "outputs": [
    {
     "name": "stdout",
     "output_type": "stream",
     "text": [
      "[('우리', 'Noun'), ('아이오', 'Noun'), ('아이', 'Noun'), ('는', 'Josa'), ('정말', 'Noun'), ('이뻐', 'Adjective'), ('요', 'Eomi')] \n",
      "\n",
      "[('트와이스', 'Noun'), ('tt', 'Alpha'), ('는', 'Verb'), ('좋', 'Adjective'), ('아요', 'Eomi')]\n"
     ]
    }
   ],
   "source": [
    "from konlpy.tag import Twitter as OriginalTwitter\n",
    "\n",
    "twitter_original = OriginalTwitter()\n",
    "print(twitter_original.pos('우리아이오아이는 정말 이뻐요'),'\\n')\n",
    "print(twitter_original.pos('트와이스tt는 좋아요'))"
   ]
  },
  {
   "cell_type": "markdown",
   "metadata": {},
   "source": [
    "customized_KoNLPy 에는 현재 트위터 한국어 분석기 만을 이용하는 wrapping class만 제공되고 있습니다. customized_KoNLPy의 Twitter는 본래 KoNLPy의 tag에 추가되는 함수가 있습니다. \n",
    "\n",
    "Twitter.add_dictionary(words, tag)는 사용자가 사전을 추가할 수 있는 부분입니다. 단어를 하나씩 추가할 수 있습니다. 추가한 뒤 Twitter의 숨김 변수인 \\_dictionary.\\_pos2words를 확인해보면 입력한 단어들을 볼 수 있습니다. "
   ]
  },
  {
   "cell_type": "code",
   "execution_count": 2,
   "metadata": {
    "collapsed": false
   },
   "outputs": [
    {
     "data": {
      "text/plain": [
       "{'Josa': {'는', '은'},\n",
       " 'Modifier': {'우리', '이', '이번'},\n",
       " 'Noun': {'것', '번것', '아이', '아이오아이', '행사'}}"
      ]
     },
     "execution_count": 2,
     "metadata": {},
     "output_type": "execute_result"
    }
   ],
   "source": [
    "from customized_konlpy.tag import Twitter\n",
    "\n",
    "twitter = Twitter()\n",
    "\n",
    "twitter.add_dictionary('이', 'Modifier')\n",
    "twitter.add_dictionary('우리', 'Modifier')\n",
    "twitter.add_dictionary('이번', 'Modifier')\n",
    "twitter.add_dictionary('아이오아이', 'Noun')\n",
    "twitter.add_dictionary('행사', 'Noun')\n",
    "twitter.add_dictionary('아이', 'Noun')\n",
    "twitter.add_dictionary('번것', 'Noun')\n",
    "twitter.add_dictionary('것', 'Noun')\n",
    "twitter.add_dictionary('은', 'Josa')\n",
    "twitter.add_dictionary('는', 'Josa')\n",
    "twitter._dictionary._pos2words"
   ]
  },
  {
   "cell_type": "markdown",
   "metadata": {},
   "source": [
    "사전을 추가한 뒤, '아이오아이'가 명사로 제대로 인식됨을 확인할 수 있습니다. "
   ]
  },
  {
   "cell_type": "code",
   "execution_count": 3,
   "metadata": {
    "collapsed": false
   },
   "outputs": [
    {
     "data": {
      "text/plain": [
       "[('우리', 'Modifier'),\n",
       " ('아이오아이', 'Noun'),\n",
       " ('는', 'Josa'),\n",
       " ('정말', 'Noun'),\n",
       " ('이뻐', 'Adjective'),\n",
       " ('요', 'Eomi')]"
      ]
     },
     "execution_count": 3,
     "metadata": {},
     "output_type": "execute_result"
    }
   ],
   "source": [
    "twitter.pos('우리아이오아이는 정말 이뻐요')"
   ]
  },
  {
   "cell_type": "markdown",
   "metadata": {},
   "source": [
    "Twitter.add_dictionary(words, tag)는 한번에 list of str 형식의 여러 개의 단어들을 입력할 수도 있습니다. "
   ]
  },
  {
   "cell_type": "code",
   "execution_count": 4,
   "metadata": {
    "collapsed": false
   },
   "outputs": [
    {
     "data": {
      "text/plain": [
       "{'Josa': {'는', '은'},\n",
       " 'Modifier': {'우리', '이', '이번'},\n",
       " 'Noun': {'tt', '것', '번것', '아이', '아이오아이', '트와이스', '행사'}}"
      ]
     },
     "execution_count": 4,
     "metadata": {},
     "output_type": "execute_result"
    }
   ],
   "source": [
    "twitter.add_dictionary(['트와이스', 'tt'], 'Noun')\n",
    "twitter._dictionary._pos2words"
   ]
  },
  {
   "cell_type": "markdown",
   "metadata": {},
   "source": [
    "하지만 아직 트와이스tt는 이라는 문장이 제대로 인식되지 않습니다. 그 이유는 templates에 'Noun + Noun + Josa'가 없었기 때문입니다. "
   ]
  },
  {
   "cell_type": "code",
   "execution_count": 5,
   "metadata": {
    "collapsed": false
   },
   "outputs": [
    {
     "data": {
      "text/plain": [
       "[('트와이스', 'Noun'),\n",
       " ('tt', 'Alpha'),\n",
       " ('는', 'Verb'),\n",
       " ('좋', 'Adjective'),\n",
       " ('아요', 'Eomi')]"
      ]
     },
     "execution_count": 5,
     "metadata": {},
     "output_type": "execute_result"
    }
   ],
   "source": [
    "twitter.pos('트와이스tt는 좋아요')"
   ]
  },
  {
   "cell_type": "markdown",
   "metadata": {},
   "source": [
    "현재는 customized_tagger로 탬플릿 기반 토크나이저를 이용하고 있습니다. 어떤 탬플릿이 들어있는지 확인하기 위해서는 아래 부분을 확인하면 됩니다. \n",
    "\n",
    "    twitter._customized_tagger.templates\n",
    "    \n",
    "현재는 다음의 탬플릿이 입력되어 있습니다. \n",
    "\n",
    "    [('Noun', 'Josa'),\n",
    "     ('Modifier', 'Noun'),\n",
    "     ('Modifier', 'Noun', 'Josa')]"
   ]
  },
  {
   "cell_type": "code",
   "execution_count": 6,
   "metadata": {
    "collapsed": false
   },
   "outputs": [
    {
     "data": {
      "text/plain": [
       "[('Noun', 'Josa'), ('Modifier', 'Noun'), ('Modifier', 'Noun', 'Josa')]"
      ]
     },
     "execution_count": 6,
     "metadata": {},
     "output_type": "execute_result"
    }
   ],
   "source": [
    "twitter._customized_tagger.templates"
   ]
  },
  {
   "cell_type": "markdown",
   "metadata": {},
   "source": [
    "기본 탬플릿은 customized_konlpy/data/templates/twitter_templates0 에 저장되어 있습니다. text 형식의 파일이며, 띄어쓰기로 아래와 같은 기본 템플릿을 지정하면 됩니다. "
   ]
  },
  {
   "cell_type": "code",
   "execution_count": 13,
   "metadata": {
    "collapsed": false
   },
   "outputs": [
    {
     "name": "stdout",
     "output_type": "stream",
     "text": [
      "Noun Josa\r\n",
      "Modifier Noun\r\n",
      "Modifier Noun Josa"
     ]
    }
   ],
   "source": [
    "cat ../customized_konlpy/data/templates/twitter_templates0"
   ]
  },
  {
   "cell_type": "markdown",
   "metadata": {},
   "source": [
    "작업 중 탬플릿을 추가하고 싶다면, 탬플릿은 하나 단위로 tuple of str의 형식으로 입력할 수 있습니다. \\_customized_tagger.add_a_templated()은 중복되는 탬플릿이 아닌지 확인한 다음 탬플릿을 추가하는 함수입니다. "
   ]
  },
  {
   "cell_type": "code",
   "execution_count": 7,
   "metadata": {
    "collapsed": false
   },
   "outputs": [
    {
     "data": {
      "text/plain": [
       "[('Noun', 'Josa'),\n",
       " ('Modifier', 'Noun'),\n",
       " ('Modifier', 'Noun', 'Josa'),\n",
       " ('Noun', 'Noun', 'Josa')]"
      ]
     },
     "execution_count": 7,
     "metadata": {},
     "output_type": "execute_result"
    }
   ],
   "source": [
    "twitter._customized_tagger.add_a_template(('Noun', 'Noun', 'Josa'))\n",
    "twitter._customized_tagger.templates"
   ]
  },
  {
   "cell_type": "markdown",
   "metadata": {},
   "source": [
    "('Noun', 'Noun', 'Josa')가 입력되었고, '트와이스', 'tt'가 명사인지 알고 있기 때문에 아래 문장은 제대로 인식이 됩니다. "
   ]
  },
  {
   "cell_type": "code",
   "execution_count": 8,
   "metadata": {
    "collapsed": false
   },
   "outputs": [
    {
     "data": {
      "text/plain": [
       "[('트와이스', 'Noun'),\n",
       " ('tt', 'Noun'),\n",
       " ('는', 'Josa'),\n",
       " ('좋', 'Adjective'),\n",
       " ('아요', 'Eomi')]"
      ]
     },
     "execution_count": 8,
     "metadata": {},
     "output_type": "execute_result"
    }
   ],
   "source": [
    "twitter.pos('트와이스tt는 좋아요')"
   ]
  },
  {
   "cell_type": "markdown",
   "metadata": {},
   "source": [
    "사전을 추가할 때, 트위터 한국어 분석기에 존재하지 않는 태그가 들어가는 것을 방지하기 위해 tag의 값을 확인하는 부분이 구현되어 있습니다. \n",
    "\n",
    "    twitter.tagset\n",
    "    \n",
    "    >>> {'Adjective': '형용사',\n",
    "         'Adverb': '부사',\n",
    "         'Alpha': '알파벳',\n",
    "         'Conjunction': '접속사',\n",
    "         'Determiner': '관형사',\n",
    "         'Eomi': '어미',\n",
    "         'Exclamation': '감탄사',\n",
    "         'Foreign': '외국어, 한자 및 기타기호',\n",
    "         'Hashtag': '트위터 해쉬태그',\n",
    "         'Josa': '조사',\n",
    "         'KoreanParticle': '(ex: ㅋㅋ)',\n",
    "         'Modifier': '관형사',\n",
    "         'Noun': '명사',\n",
    "         'Number': '숫자',\n",
    "         'PreEomi': '선어말어미',\n",
    "         'Punctuation': '구두점',\n",
    "         'ScreenName': '트위터 아이디',\n",
    "         'Suffix': '접미사',\n",
    "         'Unknown': '미등록어',\n",
    "         'Verb': '동사'}\n",
    "         \n",
    "twitter.tagset에 등록되어 있지 않는 품사에 대해서는 ValueError를 raise 합니다. "
   ]
  },
  {
   "cell_type": "code",
   "execution_count": 10,
   "metadata": {
    "collapsed": false
   },
   "outputs": [
    {
     "ename": "ValueError",
     "evalue": "Name is not available tag",
     "output_type": "error",
     "traceback": [
      "\u001b[1;31m---------------------------------------------------------------------------\u001b[0m",
      "\u001b[1;31mValueError\u001b[0m                                Traceback (most recent call last)",
      "\u001b[1;32m<ipython-input-10-849546ef1046>\u001b[0m in \u001b[0;36m<module>\u001b[1;34m()\u001b[0m\n\u001b[1;32m----> 1\u001b[1;33m \u001b[0mtwitter\u001b[0m\u001b[1;33m.\u001b[0m\u001b[0madd_dictionary\u001b[0m\u001b[1;33m(\u001b[0m\u001b[1;34m'lovit'\u001b[0m\u001b[1;33m,\u001b[0m \u001b[1;34m'Name'\u001b[0m\u001b[1;33m)\u001b[0m\u001b[1;33m\u001b[0m\u001b[0m\n\u001b[0m",
      "\u001b[1;32m/mnt/lovit/git/customized_konlpy/customized_konlpy/tag/_twitter.py\u001b[0m in \u001b[0;36madd_dictionary\u001b[1;34m(self, words, tag, force)\u001b[0m\n\u001b[0;32m     53\u001b[0m     \u001b[1;32mdef\u001b[0m \u001b[0madd_dictionary\u001b[0m\u001b[1;33m(\u001b[0m\u001b[0mself\u001b[0m\u001b[1;33m,\u001b[0m \u001b[0mwords\u001b[0m\u001b[1;33m,\u001b[0m \u001b[0mtag\u001b[0m\u001b[1;33m,\u001b[0m \u001b[0mforce\u001b[0m\u001b[1;33m=\u001b[0m\u001b[1;32mFalse\u001b[0m\u001b[1;33m)\u001b[0m\u001b[1;33m:\u001b[0m\u001b[1;33m\u001b[0m\u001b[0m\n\u001b[0;32m     54\u001b[0m         \u001b[1;32mif\u001b[0m \u001b[1;33m(\u001b[0m\u001b[1;32mnot\u001b[0m \u001b[0mforce\u001b[0m\u001b[1;33m)\u001b[0m \u001b[1;32mand\u001b[0m \u001b[1;33m(\u001b[0m\u001b[1;32mnot\u001b[0m \u001b[1;33m(\u001b[0m\u001b[0mtag\u001b[0m \u001b[1;32min\u001b[0m \u001b[0mself\u001b[0m\u001b[1;33m.\u001b[0m\u001b[0mtagset\u001b[0m\u001b[1;33m)\u001b[0m\u001b[1;33m)\u001b[0m\u001b[1;33m:\u001b[0m\u001b[1;33m\u001b[0m\u001b[0m\n\u001b[1;32m---> 55\u001b[1;33m             \u001b[1;32mraise\u001b[0m \u001b[0mValueError\u001b[0m\u001b[1;33m(\u001b[0m\u001b[1;34m'%s is not available tag'\u001b[0m \u001b[1;33m%\u001b[0m \u001b[0mtag\u001b[0m\u001b[1;33m)\u001b[0m\u001b[1;33m\u001b[0m\u001b[0m\n\u001b[0m\u001b[0;32m     56\u001b[0m         \u001b[0mself\u001b[0m\u001b[1;33m.\u001b[0m\u001b[0m_dictionary\u001b[0m\u001b[1;33m.\u001b[0m\u001b[0madd_dictionary\u001b[0m\u001b[1;33m(\u001b[0m\u001b[0mwords\u001b[0m\u001b[1;33m,\u001b[0m \u001b[0mtag\u001b[0m\u001b[1;33m)\u001b[0m\u001b[1;33m\u001b[0m\u001b[0m\n\u001b[0;32m     57\u001b[0m \u001b[1;33m\u001b[0m\u001b[0m\n",
      "\u001b[1;31mValueError\u001b[0m: Name is not available tag"
     ]
    }
   ],
   "source": [
    "twitter.add_dictionary('lovit', 'Name')"
   ]
  },
  {
   "cell_type": "markdown",
   "metadata": {},
   "source": [
    "하지만 Twitter.add_dictionary(words, tag, force=True)로 단어를 사전에 입력하면 알려지지 않은 품사라 하더라도 입력할 수 있습니다. "
   ]
  },
  {
   "cell_type": "code",
   "execution_count": 12,
   "metadata": {
    "collapsed": false
   },
   "outputs": [
    {
     "data": {
      "text/plain": [
       "{'Josa': {'는', '은'},\n",
       " 'Modifier': {'우리', '이', '이번'},\n",
       " 'Name': {'lovit'},\n",
       " 'Noun': {'tt', '것', '번것', '아이', '아이오아이', '트와이스', '행사'}}"
      ]
     },
     "execution_count": 12,
     "metadata": {},
     "output_type": "execute_result"
    }
   ],
   "source": [
    "twitter.add_dictionary('lovit', 'Name', force=True)\n",
    "twitter._dictionary._pos2words"
   ]
  },
  {
   "cell_type": "markdown",
   "metadata": {},
   "source": [
    "'Name'이라는 클래스 (더이상 품사가 아니므로)를 이용하는 탬플릿을 하나 입력한 뒤 pos에 입력하면 어절 'lovit은' customized_tagger에 의하여 처리가 되고, 사용자 사전에 알려지지 않은 어절인 '졸려'는 본래의 트위터 분석기에 의하여 처리가 됩니다. "
   ]
  },
  {
   "cell_type": "code",
   "execution_count": 16,
   "metadata": {
    "collapsed": false
   },
   "outputs": [
    {
     "name": "stdout",
     "output_type": "stream",
     "text": [
      "[('Noun', 'Josa'), ('Modifier', 'Noun'), ('Modifier', 'Noun', 'Josa'), ('Noun', 'Noun', 'Josa'), ('Name', 'Josa')]\n"
     ]
    },
    {
     "data": {
      "text/plain": [
       "[('lovit', 'Name'), ('은', 'Josa'), ('졸려', 'Verb')]"
      ]
     },
     "execution_count": 16,
     "metadata": {},
     "output_type": "execute_result"
    }
   ],
   "source": [
    "twitter._customized_tagger.add_a_template(('Name', 'Josa'))\n",
    "print(twitter._customized_tagger.templates)\n",
    "twitter.pos('lovit은 졸려')"
   ]
  },
  {
   "cell_type": "code",
   "execution_count": null,
   "metadata": {
    "collapsed": true
   },
   "outputs": [],
   "source": []
  }
 ],
 "metadata": {
  "kernelspec": {
   "display_name": "Python 3",
   "language": "python",
   "name": "python3"
  },
  "language_info": {
   "codemirror_mode": {
    "name": "ipython",
    "version": 3
   },
   "file_extension": ".py",
   "mimetype": "text/x-python",
   "name": "python",
   "nbconvert_exporter": "python",
   "pygments_lexer": "ipython3",
   "version": "3.5.2"
  }
 },
 "nbformat": 4,
 "nbformat_minor": 0
}
